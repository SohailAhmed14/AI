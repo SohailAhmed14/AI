{
 "cells": [
  {
   "cell_type": "code",
   "execution_count": 4,
   "metadata": {},
   "outputs": [
    {
     "name": "stdout",
     "output_type": "stream",
     "text": [
      "['Azka' 'Abdullah' 'Ali' 'Maha' 'Zanib']\n",
      "['Saad' 'Ahmed']\n"
     ]
    }
   ],
   "source": [
    "import numpy as np\n",
    "names = np.array([\"Maha\", \"Zanib\",\"Azka\",\"Saad\",\"Abdullah\",\"Ahmed\",\"Ali\"])\n",
    "mindices=np.array([2,4,6,0,1,3,5,])\n",
    "train_indices = mindices[:5]\n",
    "test_indices = mindices[5:]\n",
    "train_data = names[train_indices]\n",
    "test_data = names[test_indices]\n",
    "print(train_data)   \n",
    "print(test_data)"
   ]
  },
  {
   "cell_type": "code",
   "execution_count": null,
   "metadata": {},
   "outputs": [],
   "source": [
    "year = np.array([2018,2019,2020,2021,2022,2023])\n",
    "admission = np.array([50,70,90,120,120,130])\n",
    "train_indices = "
   ]
  }
 ],
 "metadata": {
  "kernelspec": {
   "display_name": "Python 3",
   "language": "python",
   "name": "python3"
  },
  "language_info": {
   "codemirror_mode": {
    "name": "ipython",
    "version": 3
   },
   "file_extension": ".py",
   "mimetype": "text/x-python",
   "name": "python",
   "nbconvert_exporter": "python",
   "pygments_lexer": "ipython3",
   "version": "3.11.1"
  },
  "orig_nbformat": 4,
  "vscode": {
   "interpreter": {
    "hash": "8fbdcf29e9d849f4451dee4e98f3ea85999020c35a17f06ac1d44f9a2ed2b43c"
   }
  }
 },
 "nbformat": 4,
 "nbformat_minor": 2
}
